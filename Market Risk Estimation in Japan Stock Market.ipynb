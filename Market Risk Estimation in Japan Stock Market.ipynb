{
 "cells": [
  {
   "cell_type": "markdown",
   "id": "4d882efc",
   "metadata": {},
   "source": [
    "### Beta estimation method using the Fujitsu stock data and the Nikkei225 Market indices data\n",
    "#### Compiler: Mashele Given Phazamisa"
   ]
  },
  {
   "cell_type": "code",
   "execution_count": 1,
   "id": "a6356c23",
   "metadata": {},
   "outputs": [],
   "source": [
    "## Import the neccessary libraries\n",
    "import pandas as pd\n",
    "import numpy as np"
   ]
  },
  {
   "cell_type": "markdown",
   "id": "01b937ab",
   "metadata": {},
   "source": [
    "### Reading the stock data: Fujitsu "
   ]
  },
  {
   "cell_type": "code",
   "execution_count": 2,
   "id": "e5bceedf",
   "metadata": {},
   "outputs": [],
   "source": [
    "# Now lets read the Fujitsu data dataset\n",
    "data = pd.read_csv('FJTSY.csv')\n",
    "## Lets select the date and Adjusted Prices only\n",
    "data = data[['Date','Adj Close']]\n",
    "### Lets rename the columns\n",
    "data.rename(columns={\"Date\":'date','Adj Close':'price_t'},inplace=True)\n",
    "# Lets calcuate the returns \n",
    "data['stock_returns'] = (data['price_t']/data['price_t'].shift(1))-1\n",
    "# Lets now select the date and the  stock returns columns only\n",
    "data = data[['date','stock_returns']]\n",
    "# Lets drop the first row with missing values the dataset\n",
    "data =data.drop(index=0,axis=0)"
   ]
  },
  {
   "cell_type": "code",
   "execution_count": 3,
   "id": "4a85e783",
   "metadata": {},
   "outputs": [
    {
     "data": {
      "text/html": [
       "<div>\n",
       "<style scoped>\n",
       "    .dataframe tbody tr th:only-of-type {\n",
       "        vertical-align: middle;\n",
       "    }\n",
       "\n",
       "    .dataframe tbody tr th {\n",
       "        vertical-align: top;\n",
       "    }\n",
       "\n",
       "    .dataframe thead th {\n",
       "        text-align: right;\n",
       "    }\n",
       "</style>\n",
       "<table border=\"1\" class=\"dataframe\">\n",
       "  <thead>\n",
       "    <tr style=\"text-align: right;\">\n",
       "      <th></th>\n",
       "      <th>date</th>\n",
       "      <th>stock_returns</th>\n",
       "    </tr>\n",
       "  </thead>\n",
       "  <tbody>\n",
       "    <tr>\n",
       "      <th>1</th>\n",
       "      <td>2023-02-02</td>\n",
       "      <td>0.005180</td>\n",
       "    </tr>\n",
       "    <tr>\n",
       "      <th>2</th>\n",
       "      <td>2023-02-03</td>\n",
       "      <td>-0.028856</td>\n",
       "    </tr>\n",
       "    <tr>\n",
       "      <th>3</th>\n",
       "      <td>2023-02-06</td>\n",
       "      <td>-0.019455</td>\n",
       "    </tr>\n",
       "    <tr>\n",
       "      <th>4</th>\n",
       "      <td>2023-02-07</td>\n",
       "      <td>-0.015512</td>\n",
       "    </tr>\n",
       "    <tr>\n",
       "      <th>5</th>\n",
       "      <td>2023-02-08</td>\n",
       "      <td>-0.001099</td>\n",
       "    </tr>\n",
       "  </tbody>\n",
       "</table>\n",
       "</div>"
      ],
      "text/plain": [
       "         date  stock_returns\n",
       "1  2023-02-02       0.005180\n",
       "2  2023-02-03      -0.028856\n",
       "3  2023-02-06      -0.019455\n",
       "4  2023-02-07      -0.015512\n",
       "5  2023-02-08      -0.001099"
      ]
     },
     "execution_count": 3,
     "metadata": {},
     "output_type": "execute_result"
    }
   ],
   "source": [
    "# Let display the five rows of the dataset\n",
    "data.head()"
   ]
  },
  {
   "cell_type": "markdown",
   "id": "fadb13dd",
   "metadata": {},
   "source": [
    "### Reading the stock market indices dataset: NIKKEI225"
   ]
  },
  {
   "cell_type": "code",
   "execution_count": 4,
   "id": "a7abeb86",
   "metadata": {},
   "outputs": [],
   "source": [
    "# Now lets read the Nikkei 225 data dataset\n",
    "df = pd.read_csv('^N225.csv')\n",
    "## Lets select the date and Adjusted Prices only\n",
    "df = df[['Date','Adj Close']]\n",
    "### Lets rename the columns\n",
    "df.rename(columns={\"Date\":'date','Adj Close':'price_t'},inplace=True)\n",
    "# Lets calcuate the returns \n",
    "df['returns_market'] = (df['price_t']/df['price_t'].shift(1))-1\n",
    "# Lets select the date and returns columns\n",
    "df = df[['date','returns_market']]\n",
    "## Lets drop the first row of the dataset\n",
    "df = df.drop(index=0,axis=0)"
   ]
  },
  {
   "cell_type": "code",
   "execution_count": 5,
   "id": "a68df5e3",
   "metadata": {},
   "outputs": [
    {
     "data": {
      "text/html": [
       "<div>\n",
       "<style scoped>\n",
       "    .dataframe tbody tr th:only-of-type {\n",
       "        vertical-align: middle;\n",
       "    }\n",
       "\n",
       "    .dataframe tbody tr th {\n",
       "        vertical-align: top;\n",
       "    }\n",
       "\n",
       "    .dataframe thead th {\n",
       "        text-align: right;\n",
       "    }\n",
       "</style>\n",
       "<table border=\"1\" class=\"dataframe\">\n",
       "  <thead>\n",
       "    <tr style=\"text-align: right;\">\n",
       "      <th></th>\n",
       "      <th>date</th>\n",
       "      <th>returns_market</th>\n",
       "    </tr>\n",
       "  </thead>\n",
       "  <tbody>\n",
       "    <tr>\n",
       "      <th>1</th>\n",
       "      <td>2023-02-02</td>\n",
       "      <td>0.002017</td>\n",
       "    </tr>\n",
       "    <tr>\n",
       "      <th>2</th>\n",
       "      <td>2023-02-03</td>\n",
       "      <td>0.003920</td>\n",
       "    </tr>\n",
       "    <tr>\n",
       "      <th>3</th>\n",
       "      <td>2023-02-06</td>\n",
       "      <td>0.006695</td>\n",
       "    </tr>\n",
       "    <tr>\n",
       "      <th>4</th>\n",
       "      <td>2023-02-07</td>\n",
       "      <td>-0.000295</td>\n",
       "    </tr>\n",
       "    <tr>\n",
       "      <th>5</th>\n",
       "      <td>2023-02-08</td>\n",
       "      <td>-0.002854</td>\n",
       "    </tr>\n",
       "  </tbody>\n",
       "</table>\n",
       "</div>"
      ],
      "text/plain": [
       "         date  returns_market\n",
       "1  2023-02-02        0.002017\n",
       "2  2023-02-03        0.003920\n",
       "3  2023-02-06        0.006695\n",
       "4  2023-02-07       -0.000295\n",
       "5  2023-02-08       -0.002854"
      ]
     },
     "execution_count": 5,
     "metadata": {},
     "output_type": "execute_result"
    }
   ],
   "source": [
    "# Lets print the first five rows of the market dataset\n",
    "df.head()"
   ]
  },
  {
   "cell_type": "markdown",
   "id": "4ce4402b",
   "metadata": {},
   "source": [
    "### Concatenation of the fujitsu and Nikkei dataset"
   ]
  },
  {
   "cell_type": "code",
   "execution_count": 6,
   "id": "2cade578",
   "metadata": {},
   "outputs": [],
   "source": [
    "# Lets create a new dataframe by combining the stock and market dataframes\n",
    "new_data = pd.concat([data,df],axis=1,ignore_index=False)"
   ]
  },
  {
   "cell_type": "code",
   "execution_count": 7,
   "id": "4196c3c2",
   "metadata": {},
   "outputs": [
    {
     "data": {
      "text/html": [
       "<div>\n",
       "<style scoped>\n",
       "    .dataframe tbody tr th:only-of-type {\n",
       "        vertical-align: middle;\n",
       "    }\n",
       "\n",
       "    .dataframe tbody tr th {\n",
       "        vertical-align: top;\n",
       "    }\n",
       "\n",
       "    .dataframe thead th {\n",
       "        text-align: right;\n",
       "    }\n",
       "</style>\n",
       "<table border=\"1\" class=\"dataframe\">\n",
       "  <thead>\n",
       "    <tr style=\"text-align: right;\">\n",
       "      <th></th>\n",
       "      <th>date</th>\n",
       "      <th>stock_returns</th>\n",
       "      <th>date</th>\n",
       "      <th>returns_market</th>\n",
       "    </tr>\n",
       "  </thead>\n",
       "  <tbody>\n",
       "    <tr>\n",
       "      <th>1</th>\n",
       "      <td>2023-02-02</td>\n",
       "      <td>0.005180</td>\n",
       "      <td>2023-02-02</td>\n",
       "      <td>0.002017</td>\n",
       "    </tr>\n",
       "    <tr>\n",
       "      <th>2</th>\n",
       "      <td>2023-02-03</td>\n",
       "      <td>-0.028856</td>\n",
       "      <td>2023-02-03</td>\n",
       "      <td>0.003920</td>\n",
       "    </tr>\n",
       "    <tr>\n",
       "      <th>3</th>\n",
       "      <td>2023-02-06</td>\n",
       "      <td>-0.019455</td>\n",
       "      <td>2023-02-06</td>\n",
       "      <td>0.006695</td>\n",
       "    </tr>\n",
       "    <tr>\n",
       "      <th>4</th>\n",
       "      <td>2023-02-07</td>\n",
       "      <td>-0.015512</td>\n",
       "      <td>2023-02-07</td>\n",
       "      <td>-0.000295</td>\n",
       "    </tr>\n",
       "    <tr>\n",
       "      <th>5</th>\n",
       "      <td>2023-02-08</td>\n",
       "      <td>-0.001099</td>\n",
       "      <td>2023-02-08</td>\n",
       "      <td>-0.002854</td>\n",
       "    </tr>\n",
       "  </tbody>\n",
       "</table>\n",
       "</div>"
      ],
      "text/plain": [
       "         date  stock_returns        date  returns_market\n",
       "1  2023-02-02       0.005180  2023-02-02        0.002017\n",
       "2  2023-02-03      -0.028856  2023-02-03        0.003920\n",
       "3  2023-02-06      -0.019455  2023-02-06        0.006695\n",
       "4  2023-02-07      -0.015512  2023-02-07       -0.000295\n",
       "5  2023-02-08      -0.001099  2023-02-08       -0.002854"
      ]
     },
     "execution_count": 7,
     "metadata": {},
     "output_type": "execute_result"
    }
   ],
   "source": [
    "new_data.head()"
   ]
  },
  {
   "cell_type": "code",
   "execution_count": 8,
   "id": "e76c4d90",
   "metadata": {},
   "outputs": [
    {
     "data": {
      "text/html": [
       "<div>\n",
       "<style scoped>\n",
       "    .dataframe tbody tr th:only-of-type {\n",
       "        vertical-align: middle;\n",
       "    }\n",
       "\n",
       "    .dataframe tbody tr th {\n",
       "        vertical-align: top;\n",
       "    }\n",
       "\n",
       "    .dataframe thead th {\n",
       "        text-align: right;\n",
       "    }\n",
       "</style>\n",
       "<table border=\"1\" class=\"dataframe\">\n",
       "  <thead>\n",
       "    <tr style=\"text-align: right;\">\n",
       "      <th></th>\n",
       "      <th>date</th>\n",
       "      <th>stock_returns</th>\n",
       "      <th>date</th>\n",
       "      <th>returns_market</th>\n",
       "    </tr>\n",
       "  </thead>\n",
       "  <tbody>\n",
       "    <tr>\n",
       "      <th>210</th>\n",
       "      <td>2023-12-01</td>\n",
       "      <td>0.010908</td>\n",
       "      <td>2023-12-07</td>\n",
       "      <td>-0.017568</td>\n",
       "    </tr>\n",
       "    <tr>\n",
       "      <th>211</th>\n",
       "      <td>2023-12-04</td>\n",
       "      <td>-0.004873</td>\n",
       "      <td>2023-12-08</td>\n",
       "      <td>-0.016752</td>\n",
       "    </tr>\n",
       "    <tr>\n",
       "      <th>212</th>\n",
       "      <td>2023-12-05</td>\n",
       "      <td>0.003498</td>\n",
       "      <td>2023-12-11</td>\n",
       "      <td>0.014979</td>\n",
       "    </tr>\n",
       "    <tr>\n",
       "      <th>213</th>\n",
       "      <td>2023-12-06</td>\n",
       "      <td>0.029976</td>\n",
       "      <td>2023-12-12</td>\n",
       "      <td>0.001583</td>\n",
       "    </tr>\n",
       "    <tr>\n",
       "      <th>214</th>\n",
       "      <td>2023-12-07</td>\n",
       "      <td>0.003723</td>\n",
       "      <td>2023-12-13</td>\n",
       "      <td>0.002517</td>\n",
       "    </tr>\n",
       "    <tr>\n",
       "      <th>215</th>\n",
       "      <td>2023-12-08</td>\n",
       "      <td>0.006069</td>\n",
       "      <td>2023-12-14</td>\n",
       "      <td>-0.007292</td>\n",
       "    </tr>\n",
       "    <tr>\n",
       "      <th>216</th>\n",
       "      <td>2023-12-11</td>\n",
       "      <td>0.001005</td>\n",
       "      <td>2023-12-15</td>\n",
       "      <td>0.008698</td>\n",
       "    </tr>\n",
       "    <tr>\n",
       "      <th>217</th>\n",
       "      <td>2023-12-12</td>\n",
       "      <td>0.021426</td>\n",
       "      <td>2023-12-18</td>\n",
       "      <td>-0.006417</td>\n",
       "    </tr>\n",
       "    <tr>\n",
       "      <th>218</th>\n",
       "      <td>2023-12-13</td>\n",
       "      <td>-0.017044</td>\n",
       "      <td>2023-12-19</td>\n",
       "      <td>0.014054</td>\n",
       "    </tr>\n",
       "    <tr>\n",
       "      <th>219</th>\n",
       "      <td>2023-12-14</td>\n",
       "      <td>-0.005669</td>\n",
       "      <td>2023-12-20</td>\n",
       "      <td>0.013744</td>\n",
       "    </tr>\n",
       "    <tr>\n",
       "      <th>220</th>\n",
       "      <td>2023-12-15</td>\n",
       "      <td>-0.034876</td>\n",
       "      <td>2023-12-21</td>\n",
       "      <td>-0.015901</td>\n",
       "    </tr>\n",
       "    <tr>\n",
       "      <th>221</th>\n",
       "      <td>2023-12-18</td>\n",
       "      <td>0.010076</td>\n",
       "      <td>2023-12-22</td>\n",
       "      <td>0.000862</td>\n",
       "    </tr>\n",
       "    <tr>\n",
       "      <th>222</th>\n",
       "      <td>2023-12-19</td>\n",
       "      <td>0.011352</td>\n",
       "      <td>2023-12-25</td>\n",
       "      <td>0.002562</td>\n",
       "    </tr>\n",
       "    <tr>\n",
       "      <th>223</th>\n",
       "      <td>2023-12-20</td>\n",
       "      <td>-0.034354</td>\n",
       "      <td>2023-12-26</td>\n",
       "      <td>0.001558</td>\n",
       "    </tr>\n",
       "    <tr>\n",
       "      <th>224</th>\n",
       "      <td>2023-12-21</td>\n",
       "      <td>0.030645</td>\n",
       "      <td>2023-12-27</td>\n",
       "      <td>0.011271</td>\n",
       "    </tr>\n",
       "    <tr>\n",
       "      <th>225</th>\n",
       "      <td>2023-12-22</td>\n",
       "      <td>0.005810</td>\n",
       "      <td>2023-12-28</td>\n",
       "      <td>-0.004205</td>\n",
       "    </tr>\n",
       "    <tr>\n",
       "      <th>226</th>\n",
       "      <td>2023-12-26</td>\n",
       "      <td>0.010873</td>\n",
       "      <td>2023-12-29</td>\n",
       "      <td>-0.002250</td>\n",
       "    </tr>\n",
       "    <tr>\n",
       "      <th>227</th>\n",
       "      <td>2023-12-27</td>\n",
       "      <td>0.003361</td>\n",
       "      <td>NaN</td>\n",
       "      <td>NaN</td>\n",
       "    </tr>\n",
       "    <tr>\n",
       "      <th>228</th>\n",
       "      <td>2023-12-28</td>\n",
       "      <td>0.004355</td>\n",
       "      <td>NaN</td>\n",
       "      <td>NaN</td>\n",
       "    </tr>\n",
       "    <tr>\n",
       "      <th>229</th>\n",
       "      <td>2023-12-29</td>\n",
       "      <td>0.001668</td>\n",
       "      <td>NaN</td>\n",
       "      <td>NaN</td>\n",
       "    </tr>\n",
       "  </tbody>\n",
       "</table>\n",
       "</div>"
      ],
      "text/plain": [
       "           date  stock_returns        date  returns_market\n",
       "210  2023-12-01       0.010908  2023-12-07       -0.017568\n",
       "211  2023-12-04      -0.004873  2023-12-08       -0.016752\n",
       "212  2023-12-05       0.003498  2023-12-11        0.014979\n",
       "213  2023-12-06       0.029976  2023-12-12        0.001583\n",
       "214  2023-12-07       0.003723  2023-12-13        0.002517\n",
       "215  2023-12-08       0.006069  2023-12-14       -0.007292\n",
       "216  2023-12-11       0.001005  2023-12-15        0.008698\n",
       "217  2023-12-12       0.021426  2023-12-18       -0.006417\n",
       "218  2023-12-13      -0.017044  2023-12-19        0.014054\n",
       "219  2023-12-14      -0.005669  2023-12-20        0.013744\n",
       "220  2023-12-15      -0.034876  2023-12-21       -0.015901\n",
       "221  2023-12-18       0.010076  2023-12-22        0.000862\n",
       "222  2023-12-19       0.011352  2023-12-25        0.002562\n",
       "223  2023-12-20      -0.034354  2023-12-26        0.001558\n",
       "224  2023-12-21       0.030645  2023-12-27        0.011271\n",
       "225  2023-12-22       0.005810  2023-12-28       -0.004205\n",
       "226  2023-12-26       0.010873  2023-12-29       -0.002250\n",
       "227  2023-12-27       0.003361         NaN             NaN\n",
       "228  2023-12-28       0.004355         NaN             NaN\n",
       "229  2023-12-29       0.001668         NaN             NaN"
      ]
     },
     "execution_count": 8,
     "metadata": {},
     "output_type": "execute_result"
    }
   ],
   "source": [
    "# Lets drop the last 20 rows of the dataset\n",
    "new_data.tail(20)"
   ]
  },
  {
   "cell_type": "code",
   "execution_count": 9,
   "id": "2d112318",
   "metadata": {},
   "outputs": [],
   "source": [
    "## Lets drop the rows with missing values of the dataset\n",
    "new_data = new_data.drop(index=[227,228,229],axis=0)"
   ]
  },
  {
   "cell_type": "code",
   "execution_count": 10,
   "id": "096f2c36",
   "metadata": {},
   "outputs": [],
   "source": [
    "# Lets set the index as date\n",
    "new_data.set_index('date',inplace=True)"
   ]
  },
  {
   "cell_type": "code",
   "execution_count": 11,
   "id": "67d027dc",
   "metadata": {},
   "outputs": [
    {
     "data": {
      "text/html": [
       "<div>\n",
       "<style scoped>\n",
       "    .dataframe tbody tr th:only-of-type {\n",
       "        vertical-align: middle;\n",
       "    }\n",
       "\n",
       "    .dataframe tbody tr th {\n",
       "        vertical-align: top;\n",
       "    }\n",
       "\n",
       "    .dataframe thead th {\n",
       "        text-align: right;\n",
       "    }\n",
       "</style>\n",
       "<table border=\"1\" class=\"dataframe\">\n",
       "  <thead>\n",
       "    <tr style=\"text-align: right;\">\n",
       "      <th></th>\n",
       "      <th>stock_returns</th>\n",
       "      <th>returns_market</th>\n",
       "    </tr>\n",
       "    <tr>\n",
       "      <th>date</th>\n",
       "      <th></th>\n",
       "      <th></th>\n",
       "    </tr>\n",
       "  </thead>\n",
       "  <tbody>\n",
       "    <tr>\n",
       "      <th>(2023-02-02, 2023-02-02)</th>\n",
       "      <td>0.005180</td>\n",
       "      <td>0.002017</td>\n",
       "    </tr>\n",
       "    <tr>\n",
       "      <th>(2023-02-03, 2023-02-03)</th>\n",
       "      <td>-0.028856</td>\n",
       "      <td>0.003920</td>\n",
       "    </tr>\n",
       "    <tr>\n",
       "      <th>(2023-02-06, 2023-02-06)</th>\n",
       "      <td>-0.019455</td>\n",
       "      <td>0.006695</td>\n",
       "    </tr>\n",
       "    <tr>\n",
       "      <th>(2023-02-07, 2023-02-07)</th>\n",
       "      <td>-0.015512</td>\n",
       "      <td>-0.000295</td>\n",
       "    </tr>\n",
       "    <tr>\n",
       "      <th>(2023-02-08, 2023-02-08)</th>\n",
       "      <td>-0.001099</td>\n",
       "      <td>-0.002854</td>\n",
       "    </tr>\n",
       "  </tbody>\n",
       "</table>\n",
       "</div>"
      ],
      "text/plain": [
       "                          stock_returns  returns_market\n",
       "date                                                   \n",
       "(2023-02-02, 2023-02-02)       0.005180        0.002017\n",
       "(2023-02-03, 2023-02-03)      -0.028856        0.003920\n",
       "(2023-02-06, 2023-02-06)      -0.019455        0.006695\n",
       "(2023-02-07, 2023-02-07)      -0.015512       -0.000295\n",
       "(2023-02-08, 2023-02-08)      -0.001099       -0.002854"
      ]
     },
     "execution_count": 11,
     "metadata": {},
     "output_type": "execute_result"
    }
   ],
   "source": [
    "# Print the first five rows of the new dataframe\n",
    "new_data.head()"
   ]
  },
  {
   "cell_type": "code",
   "execution_count": 12,
   "id": "6fcb2126",
   "metadata": {},
   "outputs": [],
   "source": [
    "## Lets make a copy of the new dataframe\n",
    "fujitsu_Nikkei_data= new_data.copy()"
   ]
  },
  {
   "cell_type": "markdown",
   "id": "359aafc3",
   "metadata": {},
   "source": [
    "### Question 1 :  Create a function to calculate the beta of the stock given the dataframe information"
   ]
  },
  {
   "cell_type": "code",
   "execution_count": 13,
   "id": "284b6c21",
   "metadata": {},
   "outputs": [],
   "source": [
    "## Lets define the Beta function:\n",
    "def beta_function(data,stock_return_column,market_return_column):\n",
    "    \"\"\"\n",
    "    Calculate the beta using the stock return: Fujitsu\n",
    "    and market returns: Nikkei225\n",
    "    \n",
    "    \"\"\"\n",
    "    # Calculate the stock returns deviations:\n",
    "    stock_dev = data[stock_return_column] -  data[stock_return_column].mean()\n",
    "    # Calculate the market return deviations:\n",
    "    market_dev = data[market_return_column] -  data[market_return_column].mean()\n",
    "    # Now lets compute the sum of the products of the deviations\n",
    "    sum_value = np.sum(stock_dev*market_dev)\n",
    "    # now lets calculate the number of observation minus 1.\n",
    "    divisor = len(data[stock_return_column])-1 \n",
    "    ## Now lets compute the beta value:\n",
    "    covariance = sum_value/divisor\n",
    "    # now lets calculate the market variance\n",
    "    market_variance = np.var(data[market_return_column],ddof=1)\n",
    "    # Calculate the beta\n",
    "    beta =covariance/market_variance\n",
    "    return beta"
   ]
  },
  {
   "cell_type": "code",
   "execution_count": 15,
   "id": "7685290e",
   "metadata": {},
   "outputs": [
    {
     "data": {
      "text/plain": [
       "0.3577427339018736"
      ]
     },
     "execution_count": 15,
     "metadata": {},
     "output_type": "execute_result"
    }
   ],
   "source": [
    "## now lets compute the beta:\n",
    "beta_function(fujitsu_Nikkei_data,stock_return_column='stock_returns' ,market_return_column='returns_market')"
   ]
  },
  {
   "cell_type": "markdown",
   "id": "737cc9b3",
   "metadata": {},
   "source": [
    "### Question 2 :  Calculate the beta using the covariance and variance built in functions"
   ]
  },
  {
   "cell_type": "code",
   "execution_count": 16,
   "id": "1a416618",
   "metadata": {},
   "outputs": [
    {
     "name": "stdout",
     "output_type": "stream",
     "text": [
      "[[2.89080329e-04 3.65940340e-05]\n",
      " [3.65940340e-05 1.02291481e-04]]\n"
     ]
    }
   ],
   "source": [
    "## lets compute the covariance matrix between the stock and the market\n",
    "cov_matrix =np.cov(fujitsu_Nikkei_data['stock_returns'],fujitsu_Nikkei_data['returns_market'])\n",
    "print(cov_matrix)"
   ]
  },
  {
   "cell_type": "code",
   "execution_count": 17,
   "id": "f5303621",
   "metadata": {},
   "outputs": [
    {
     "name": "stdout",
     "output_type": "stream",
     "text": [
      "3.659403398220608e-05\n"
     ]
    }
   ],
   "source": [
    "## Now lets compute the covariance between the stock and the market in the first row and column 2\n",
    "stock_market_covariance = cov_matrix[0][1]\n",
    "print(stock_market_covariance)"
   ]
  },
  {
   "cell_type": "code",
   "execution_count": 18,
   "id": "9ec9a4d2",
   "metadata": {},
   "outputs": [
    {
     "name": "stdout",
     "output_type": "stream",
     "text": [
      "0.00010229148076070655\n"
     ]
    }
   ],
   "source": [
    "## calcuate the market variance\n",
    "market_var = np.var(fujitsu_Nikkei_data['returns_market'],ddof=1)\n",
    "print(market_var)"
   ]
  },
  {
   "cell_type": "code",
   "execution_count": 19,
   "id": "0a432d4e",
   "metadata": {},
   "outputs": [
    {
     "name": "stdout",
     "output_type": "stream",
     "text": [
      "0.00010229148076070658\n"
     ]
    }
   ],
   "source": [
    "### Alternative approach of calculating the variance of the market\n",
    "market_variance = cov_matrix[1][1]\n",
    "print(market_variance)"
   ]
  },
  {
   "cell_type": "code",
   "execution_count": 20,
   "id": "9d97c19d",
   "metadata": {},
   "outputs": [
    {
     "name": "stdout",
     "output_type": "stream",
     "text": [
      "0.3577427339018737\n"
     ]
    }
   ],
   "source": [
    "### now lets compute the beta\n",
    "beta = stock_market_covariance/market_var\n",
    "print(beta)"
   ]
  },
  {
   "cell_type": "markdown",
   "id": "78a22771",
   "metadata": {},
   "source": [
    "### Question 3 : Estimate the Beta using the Scipy function. i.e linregress"
   ]
  },
  {
   "cell_type": "code",
   "execution_count": 21,
   "id": "b6b99a79",
   "metadata": {},
   "outputs": [],
   "source": [
    "from scipy.stats import linregress"
   ]
  },
  {
   "cell_type": "code",
   "execution_count": 22,
   "id": "2c0988d0",
   "metadata": {},
   "outputs": [
    {
     "data": {
      "text/plain": [
       "LinregressResult(slope=0.35774273390187367, intercept=-7.667819038207171e-05, rvalue=0.2128047335579765, pvalue=0.0012892564395732792, stderr=0.10974941323836232, intercept_stderr=0.0011123797127281954)"
      ]
     },
     "execution_count": 22,
     "metadata": {},
     "output_type": "execute_result"
    }
   ],
   "source": [
    "linregress(y=fujitsu_Nikkei_data['stock_returns'],x=fujitsu_Nikkei_data['returns_market'])"
   ]
  },
  {
   "cell_type": "code",
   "execution_count": 23,
   "id": "5a50002b",
   "metadata": {},
   "outputs": [
    {
     "name": "stdout",
     "output_type": "stream",
     "text": [
      "0.35774273390187367\n"
     ]
    }
   ],
   "source": [
    "### Now lets compute the beta:\n",
    "beta = linregress(y=fujitsu_Nikkei_data['stock_returns'],x=fujitsu_Nikkei_data['returns_market'])[0]\n",
    "print(beta)"
   ]
  },
  {
   "cell_type": "markdown",
   "id": "7853e40d",
   "metadata": {},
   "source": [
    "### Question4: Comment on the beta estimates"
   ]
  },
  {
   "cell_type": "markdown",
   "id": "40d336f5",
   "metadata": {},
   "source": [
    " #### Observation:\n",
    "* The beta values are approximately the same , with a slight difference at the last digits.\n",
    "* The Fujitsu stock is less risky than the market(Nikkei 225) with the beta values of less than 1"
   ]
  }
 ],
 "metadata": {
  "kernelspec": {
   "display_name": "Python 3 (ipykernel)",
   "language": "python",
   "name": "python3"
  },
  "language_info": {
   "codemirror_mode": {
    "name": "ipython",
    "version": 3
   },
   "file_extension": ".py",
   "mimetype": "text/x-python",
   "name": "python",
   "nbconvert_exporter": "python",
   "pygments_lexer": "ipython3",
   "version": "3.9.18"
  }
 },
 "nbformat": 4,
 "nbformat_minor": 5
}
